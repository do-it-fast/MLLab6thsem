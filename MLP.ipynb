{
  "nbformat": 4,
  "nbformat_minor": 0,
  "metadata": {
    "colab": {
      "name": "Prg#4_MLP.ipynb",
      "provenance": []
    },
    "kernelspec": {
      "name": "python3",
      "display_name": "Python 3"
    },
    "language_info": {
      "name": "python"
    }
  },
  "cells": [
    {
      "cell_type": "markdown",
      "source": [
        "# **Loading Dataset**\n",
        "\n",
        "First load the required HR dataset using pandas’ read CSV function. \n",
        "The dataset has 14999 rows and 10 columns "
      ],
      "metadata": {
        "id": "-QlQA5pTuC54"
      }
    },
    {
      "cell_type": "code",
      "source": [
        "#https://machinelearninggeek.com/multi-layer-perceptron-neural-network-using-python/\n",
        "import numpy as np\n",
        "import pandas as pd\n",
        "import sklearn.metrics \n",
        "from sklearn.metrics import confusion_matrix\n",
        "# Import accuracy score \n",
        "from sklearn.metrics import accuracy_score\n",
        "#Importing LabelEncoder \n",
        "from sklearn import preprocessing\n",
        "# Import train_test_split function\n",
        "from sklearn.model_selection import train_test_split\n",
        "# Import MLPClassifer \n",
        "from sklearn.neural_network import MLPClassifier\n",
        "import matplotlib.pyplot as plt\n",
        "from sklearn import metrics\n",
        "import itertools\n",
        "\n",
        "# Load data\n",
        "data=pd.read_csv('sample_data/HR_comma_sep.csv')\n",
        "\n",
        "data.shape\n",
        "data.head()"
      ],
      "metadata": {
        "colab": {
          "base_uri": "https://localhost:8080/",
          "height": 207
        },
        "id": "zUOWP-6St_-N",
        "outputId": "9461b20d-0ab9-4390-a89e-03e21b623a4f"
      },
      "execution_count": null,
      "outputs": [
        {
          "output_type": "execute_result",
          "data": {
            "text/plain": [
              "   satisfaction_level  last_evaluation  number_project  average_montly_hours  \\\n",
              "0                0.38             0.53               2                   157   \n",
              "1                0.80             0.86               5                   262   \n",
              "2                0.11             0.88               7                   272   \n",
              "3                0.72             0.87               5                   223   \n",
              "4                0.37             0.52               2                   159   \n",
              "\n",
              "   time_spend_company  Work_accident  left  promotion_last_5years  sales  \\\n",
              "0                   3              0     1                      0  sales   \n",
              "1                   6              0     1                      0  sales   \n",
              "2                   4              0     1                      0  sales   \n",
              "3                   5              0     1                      0  sales   \n",
              "4                   3              0     1                      0  sales   \n",
              "\n",
              "   salary  \n",
              "0     low  \n",
              "1  medium  \n",
              "2  medium  \n",
              "3     low  \n",
              "4     low  "
            ],
            "text/html": [
              "\n",
              "  <div id=\"df-a8ceff4e-f298-4329-9fd4-a7688255bdb5\">\n",
              "    <div class=\"colab-df-container\">\n",
              "      <div>\n",
              "<style scoped>\n",
              "    .dataframe tbody tr th:only-of-type {\n",
              "        vertical-align: middle;\n",
              "    }\n",
              "\n",
              "    .dataframe tbody tr th {\n",
              "        vertical-align: top;\n",
              "    }\n",
              "\n",
              "    .dataframe thead th {\n",
              "        text-align: right;\n",
              "    }\n",
              "</style>\n",
              "<table border=\"1\" class=\"dataframe\">\n",
              "  <thead>\n",
              "    <tr style=\"text-align: right;\">\n",
              "      <th></th>\n",
              "      <th>satisfaction_level</th>\n",
              "      <th>last_evaluation</th>\n",
              "      <th>number_project</th>\n",
              "      <th>average_montly_hours</th>\n",
              "      <th>time_spend_company</th>\n",
              "      <th>Work_accident</th>\n",
              "      <th>left</th>\n",
              "      <th>promotion_last_5years</th>\n",
              "      <th>sales</th>\n",
              "      <th>salary</th>\n",
              "    </tr>\n",
              "  </thead>\n",
              "  <tbody>\n",
              "    <tr>\n",
              "      <th>0</th>\n",
              "      <td>0.38</td>\n",
              "      <td>0.53</td>\n",
              "      <td>2</td>\n",
              "      <td>157</td>\n",
              "      <td>3</td>\n",
              "      <td>0</td>\n",
              "      <td>1</td>\n",
              "      <td>0</td>\n",
              "      <td>sales</td>\n",
              "      <td>low</td>\n",
              "    </tr>\n",
              "    <tr>\n",
              "      <th>1</th>\n",
              "      <td>0.80</td>\n",
              "      <td>0.86</td>\n",
              "      <td>5</td>\n",
              "      <td>262</td>\n",
              "      <td>6</td>\n",
              "      <td>0</td>\n",
              "      <td>1</td>\n",
              "      <td>0</td>\n",
              "      <td>sales</td>\n",
              "      <td>medium</td>\n",
              "    </tr>\n",
              "    <tr>\n",
              "      <th>2</th>\n",
              "      <td>0.11</td>\n",
              "      <td>0.88</td>\n",
              "      <td>7</td>\n",
              "      <td>272</td>\n",
              "      <td>4</td>\n",
              "      <td>0</td>\n",
              "      <td>1</td>\n",
              "      <td>0</td>\n",
              "      <td>sales</td>\n",
              "      <td>medium</td>\n",
              "    </tr>\n",
              "    <tr>\n",
              "      <th>3</th>\n",
              "      <td>0.72</td>\n",
              "      <td>0.87</td>\n",
              "      <td>5</td>\n",
              "      <td>223</td>\n",
              "      <td>5</td>\n",
              "      <td>0</td>\n",
              "      <td>1</td>\n",
              "      <td>0</td>\n",
              "      <td>sales</td>\n",
              "      <td>low</td>\n",
              "    </tr>\n",
              "    <tr>\n",
              "      <th>4</th>\n",
              "      <td>0.37</td>\n",
              "      <td>0.52</td>\n",
              "      <td>2</td>\n",
              "      <td>159</td>\n",
              "      <td>3</td>\n",
              "      <td>0</td>\n",
              "      <td>1</td>\n",
              "      <td>0</td>\n",
              "      <td>sales</td>\n",
              "      <td>low</td>\n",
              "    </tr>\n",
              "  </tbody>\n",
              "</table>\n",
              "</div>\n",
              "      <button class=\"colab-df-convert\" onclick=\"convertToInteractive('df-a8ceff4e-f298-4329-9fd4-a7688255bdb5')\"\n",
              "              title=\"Convert this dataframe to an interactive table.\"\n",
              "              style=\"display:none;\">\n",
              "        \n",
              "  <svg xmlns=\"http://www.w3.org/2000/svg\" height=\"24px\"viewBox=\"0 0 24 24\"\n",
              "       width=\"24px\">\n",
              "    <path d=\"M0 0h24v24H0V0z\" fill=\"none\"/>\n",
              "    <path d=\"M18.56 5.44l.94 2.06.94-2.06 2.06-.94-2.06-.94-.94-2.06-.94 2.06-2.06.94zm-11 1L8.5 8.5l.94-2.06 2.06-.94-2.06-.94L8.5 2.5l-.94 2.06-2.06.94zm10 10l.94 2.06.94-2.06 2.06-.94-2.06-.94-.94-2.06-.94 2.06-2.06.94z\"/><path d=\"M17.41 7.96l-1.37-1.37c-.4-.4-.92-.59-1.43-.59-.52 0-1.04.2-1.43.59L10.3 9.45l-7.72 7.72c-.78.78-.78 2.05 0 2.83L4 21.41c.39.39.9.59 1.41.59.51 0 1.02-.2 1.41-.59l7.78-7.78 2.81-2.81c.8-.78.8-2.07 0-2.86zM5.41 20L4 18.59l7.72-7.72 1.47 1.35L5.41 20z\"/>\n",
              "  </svg>\n",
              "      </button>\n",
              "      \n",
              "  <style>\n",
              "    .colab-df-container {\n",
              "      display:flex;\n",
              "      flex-wrap:wrap;\n",
              "      gap: 12px;\n",
              "    }\n",
              "\n",
              "    .colab-df-convert {\n",
              "      background-color: #E8F0FE;\n",
              "      border: none;\n",
              "      border-radius: 50%;\n",
              "      cursor: pointer;\n",
              "      display: none;\n",
              "      fill: #1967D2;\n",
              "      height: 32px;\n",
              "      padding: 0 0 0 0;\n",
              "      width: 32px;\n",
              "    }\n",
              "\n",
              "    .colab-df-convert:hover {\n",
              "      background-color: #E2EBFA;\n",
              "      box-shadow: 0px 1px 2px rgba(60, 64, 67, 0.3), 0px 1px 3px 1px rgba(60, 64, 67, 0.15);\n",
              "      fill: #174EA6;\n",
              "    }\n",
              "\n",
              "    [theme=dark] .colab-df-convert {\n",
              "      background-color: #3B4455;\n",
              "      fill: #D2E3FC;\n",
              "    }\n",
              "\n",
              "    [theme=dark] .colab-df-convert:hover {\n",
              "      background-color: #434B5C;\n",
              "      box-shadow: 0px 1px 3px 1px rgba(0, 0, 0, 0.15);\n",
              "      filter: drop-shadow(0px 1px 2px rgba(0, 0, 0, 0.3));\n",
              "      fill: #FFFFFF;\n",
              "    }\n",
              "  </style>\n",
              "\n",
              "      <script>\n",
              "        const buttonEl =\n",
              "          document.querySelector('#df-a8ceff4e-f298-4329-9fd4-a7688255bdb5 button.colab-df-convert');\n",
              "        buttonEl.style.display =\n",
              "          google.colab.kernel.accessAllowed ? 'block' : 'none';\n",
              "\n",
              "        async function convertToInteractive(key) {\n",
              "          const element = document.querySelector('#df-a8ceff4e-f298-4329-9fd4-a7688255bdb5');\n",
              "          const dataTable =\n",
              "            await google.colab.kernel.invokeFunction('convertToInteractive',\n",
              "                                                     [key], {});\n",
              "          if (!dataTable) return;\n",
              "\n",
              "          const docLinkHtml = 'Like what you see? Visit the ' +\n",
              "            '<a target=\"_blank\" href=https://colab.research.google.com/notebooks/data_table.ipynb>data table notebook</a>'\n",
              "            + ' to learn more about interactive tables.';\n",
              "          element.innerHTML = '';\n",
              "          dataTable['output_type'] = 'display_data';\n",
              "          await google.colab.output.renderOutput(dataTable, element);\n",
              "          const docLink = document.createElement('div');\n",
              "          docLink.innerHTML = docLinkHtml;\n",
              "          element.appendChild(docLink);\n",
              "        }\n",
              "      </script>\n",
              "    </div>\n",
              "  </div>\n",
              "  "
            ]
          },
          "metadata": {},
          "execution_count": 37
        }
      ]
    },
    {
      "cell_type": "markdown",
      "source": [
        "# **Preprocessing: Label Encoding**\n",
        "\n",
        "*   Many Machine learning algorithms process numerical input data.\n",
        "*   Categorical columns need to be represented in a numerical column\n",
        "*   To encode Categorical data, map each value to a number. \n",
        ">   **E.g.** Salary column’s value can be represented as \n",
        ">        low:0\n",
        ">        medium:1\n",
        ">        high:2\n",
        "\n",
        "This process is known as **label encoding**. In sklearn, this is done using **LabelEncoder**\n",
        "\n",
        "The preprocessing module is imported and the LabelEncoder object is created. The categorical **“salary”** and **“Departments“** column is transformed into the numeric column using the LabelEncoder object using **fit** and **transform** functions.\n"
      ],
      "metadata": {
        "id": "W-YIhFHCuAy6"
      }
    },
    {
      "cell_type": "code",
      "source": [
        "\n",
        "\n",
        "# Creating labelEncoder\n",
        "le = preprocessing.LabelEncoder()\n",
        "\n",
        "# Converting string labels into numbers.\n",
        "data['Encoded Salary']=le.fit_transform(data['salary'])\n",
        "data['Dept']=le.fit_transform(data['sales'])\n",
        "# Displaying to see the transformation \n",
        "print(data[['Encoded Salary','Dept']])\n",
        "data.sales.unique()\n",
        "pd.unique(data[['sales', 'Dept']].values.ravel('K'))"
      ],
      "metadata": {
        "colab": {
          "base_uri": "https://localhost:8080/"
        },
        "id": "sBknily5yZrB",
        "outputId": "20cd67a1-677f-4dc3-b249-45f2cf22f5c2"
      },
      "execution_count": null,
      "outputs": [
        {
          "output_type": "stream",
          "name": "stdout",
          "text": [
            "       Encoded Salary  Dept\n",
            "0                   1     7\n",
            "1                   2     7\n",
            "2                   2     7\n",
            "3                   1     7\n",
            "4                   1     7\n",
            "...               ...   ...\n",
            "14994               1     8\n",
            "14995               1     8\n",
            "14996               1     8\n",
            "14997               1     8\n",
            "14998               1     8\n",
            "\n",
            "[14999 rows x 2 columns]\n"
          ]
        },
        {
          "output_type": "execute_result",
          "data": {
            "text/plain": [
              "array(['sales', 'accounting', 'hr', 'technical', 'support', 'management',\n",
              "       'IT', 'product_mng', 'marketing', 'RandD', 7, 2, 3, 9, 8, 4, 0, 6,\n",
              "       5, 1], dtype=object)"
            ]
          },
          "metadata": {},
          "execution_count": 38
        }
      ]
    },
    {
      "cell_type": "markdown",
      "source": [
        "# **Split the dataset**\n",
        "\n",
        "**Aim:** To assess the model performance, the dataset needs to be split into train and test set. \n",
        "\n",
        "**Function Used:** Let’s split dataset by using function **train_test_split()**\n",
        "\n",
        "There are 3 parameters \n",
        ">        features\n",
        ">        target\n",
        ">        test_set size\n"
      ],
      "metadata": {
        "id": "w1Nrn0Y91QeD"
      }
    },
    {
      "cell_type": "code",
      "source": [
        "# Spliting data into Features\n",
        "X=data[['satisfaction_level', 'last_evaluation', 'number_project', 'average_montly_hours', \n",
        "        'time_spend_company', 'Work_accident', 'promotion_last_5years', 'Dept', 'Encoded Salary']]\n",
        "\n",
        "y=data['left']\n",
        "\n",
        "\n",
        "\n",
        "# Split dataset into training set and test set\n",
        "X_train, X_test, y_train, y_test = train_test_split(X, y, test_size=0.2, random_state=42)  # 70% training and 30% test"
      ],
      "metadata": {
        "id": "Y5fRi9tFtaiu"
      },
      "execution_count": null,
      "outputs": []
    },
    {
      "cell_type": "markdown",
      "source": [
        "# **Build the Classification Model**\n",
        "\n",
        "**Aim:** Build an ***employee churn prediction model*** (predict if the employee will leave the organization or not) using **MLPClassifier.**\n",
        "\n",
        "**Steps:**  \n",
        "*   import the MLPClassifier module \n",
        "*   Create MLP Classifier object using MLPClassifier() function\n",
        "*   Fit our model on the train set using fit()\n",
        "*   Perform prediction on the test set using predict()\n",
        "\n",
        "**Parameters**:\n",
        "*   **hidden_layer_sizes:** it is a tuple where each element represents one layer and its value represents the number of neurons on each hidden layer.\n",
        "*   **learning_rate_init:**It used to controls the step-size in updating the \n",
        "      weights. \n",
        "*   **random_state:**It defines the random number for weights and bias \n",
        "      initialization.\n",
        "*   **verbose:**It used to print progress messages to standard output.\n",
        "*   **activation:** Activation function for the hidden layer. \n",
        "      Examples, identity, logistic, tanh, and relu. \n",
        "      *By default,* **relu** is used as an activation function.\n",
        "\n",
        "**Test for new data points and predict** "
      ],
      "metadata": {
        "id": "tiWbMZLC30sB"
      }
    },
    {
      "cell_type": "code",
      "source": [
        "\n",
        "\n",
        "# Create model object\n",
        "clf = MLPClassifier(hidden_layer_sizes=(6,5),\n",
        "                    random_state=5,\n",
        "                    verbose=False,\n",
        "                    learning_rate_init=0.01)\n",
        "\n",
        "# Fit data onto the model\n",
        "clf.fit(X_train,y_train)\n",
        "clf.loss_curve_\n",
        "#X=data[['satisfaction_level', 'last_evaluation', 'number_project', 'average_montly_hours', \n",
        "       # 'time_spend_company', 'Work_accident', 'promotion_last_5years', 'Dept', 'Encoded Salary']]\n",
        "  \n",
        "testX = [[0.37,0.32,2,188,3,0,0,7,0]]  #Employee will leave\n",
        "#testX = [[0.77,0.72,2,159,3,0,0,2,2]]    #Employee will stay \n",
        "testpred=clf.predict(testX)\n",
        "print(\"testpred is :\", testpred)\n",
        "\n",
        "if testpred == 0: \n",
        "  print(\"Employee will stay\")\n",
        "else:\n",
        "  print(\"Employee will leave\")\n"
      ],
      "metadata": {
        "colab": {
          "base_uri": "https://localhost:8080/"
        },
        "id": "Z01JqFVyti1z",
        "outputId": "371951ca-e752-4d09-e7c1-dcbe91541c55"
      },
      "execution_count": null,
      "outputs": [
        {
          "output_type": "stream",
          "name": "stdout",
          "text": [
            "testpred is : [1]\n",
            "Employee will leave\n"
          ]
        },
        {
          "output_type": "stream",
          "name": "stderr",
          "text": [
            "/usr/local/lib/python3.7/dist-packages/sklearn/base.py:451: UserWarning: X does not have valid feature names, but MLPClassifier was fitted with feature names\n",
            "  \"X does not have valid feature names, but\"\n"
          ]
        }
      ]
    },
    {
      "cell_type": "markdown",
      "source": [
        "# **Hand-coded Mini-Batch learning**\n",
        "\n",
        "*   N_TRAIN_SAMPLES will be got from the # of rows in shape[0] of the dataset \n",
        "*   N_EPOCHS and N_BATCH are hard-coded for this programs as 12 and 128 respectively \n",
        "*   N_CLASSES will be [0,1] as this is the outcome to be predicted '0' measn employee will stay and '1' means employee will leave\n",
        "\n",
        "**Mini Batch Training is done** \n",
        "\n",
        "*   To ensure random # of samples for mini-batch training **random.permutation** function is used\n",
        "*   The training is done for  N_EPOCHS. Here it is 25 epochs. \n",
        "\n",
        "**Plots**\n",
        "*   The Accuracy score for the train and test dataset is plotted \n",
        "\n",
        "\n",
        "\n",
        "\n"
      ],
      "metadata": {
        "id": "3VGQI8rcTsnm"
      }
    },
    {
      "cell_type": "code",
      "source": [
        "\n",
        "N_TRAIN_SAMPLES = X_train.shape[0]\n",
        "N_EPOCHS = 25\n",
        "N_BATCH = 128\n",
        "N_CLASSES = np.unique(y_train)\n",
        "\n",
        "scores_train = []\n",
        "scores_test = []\n",
        "\n",
        "# EPOCH\n",
        "epoch = 0\n",
        "while epoch < N_EPOCHS:\n",
        "    #print('epoch: ', epoch)\n",
        "    # SHUFFLING\n",
        "    # Do randon permutation umtil the # of rows in dataset. Here it is 14,999\n",
        "    random_perm = np.random.permutation(X_train.shape[0])\n",
        "    mini_batch_index = 0\n",
        "\n",
        "    #Do mini-batch training until # of rows are reached \n",
        "    while True:\n",
        "        # MINI-BATCH\n",
        "        # Do for a random # of rows + fixed batch sixe \n",
        "        indices = random_perm[mini_batch_index:mini_batch_index + N_BATCH]\n",
        "        # Fit the MLP Classifier \n",
        "        clf.partial_fit(X_train.iloc[indices], y_train.iloc[indices], classes=N_CLASSES)\n",
        "        # Do for the rest after the previous mini-batch index \n",
        "        mini_batch_index += N_BATCH\n",
        "\n",
        "        if mini_batch_index >= N_TRAIN_SAMPLES:\n",
        "            break\n",
        "\n",
        "    # ACCURACY SCORE FOR TRAIN\n",
        "    scores_train.append(clf.score(X_train, y_train))\n",
        "\n",
        "    # ACCURACY SCORE FOR TEST\n",
        "    scores_test.append(clf.score(X_test, y_test))\n",
        "\n",
        "    epoch += 1\n",
        "\n",
        "\"\"\" Plotting the Accuracy Score Over the 25 Epochs\"\"\"\n",
        "fig, ax = plt.subplots(2, sharex=True, sharey=True)\n",
        "ax[0].plot(scores_train)\n",
        "ax[0].set_title('Train')\n",
        "ax[1].plot(scores_test)\n",
        "ax[1].set_title('Test')\n",
        "fig.suptitle(\"Accuracy over epochs\", fontsize=14)\n",
        "plt.show()"
      ],
      "metadata": {
        "colab": {
          "base_uri": "https://localhost:8080/",
          "height": 294
        },
        "id": "K839wVoWWrdc",
        "outputId": "b7943836-e650-4d19-fa5e-00cb18fdb44c"
      },
      "execution_count": null,
      "outputs": [
        {
          "output_type": "display_data",
          "data": {
            "text/plain": [
              "<Figure size 432x288 with 2 Axes>"
            ],
            "image/png": "[encoded data removed]"
          },
          "metadata": {
            "needs_background": "light"
          }
        }
      ]
    },
    {
      "cell_type": "markdown",
      "source": [
        "# **Make Prediction and Evaluate the Model**\n",
        "\n",
        "*   Predictions are made on the test dataset\n",
        "*   Assess model accuracy based on available actual labels of the test dataset. \n"
      ],
      "metadata": {
        "id": "gVBO6bqi5GNx"
      }
    },
    {
      "cell_type": "code",
      "source": [
        "\n",
        "\n",
        "# Make prediction on train dataset\n",
        "ypredtrain = clf.predict(X_train)\n",
        "\n",
        "# Calcuate accuracy\n",
        "print(\"Accuracy Score for Train Data is\",accuracy_score(y_train,ypredtrain))\n",
        "\n",
        "# Make prediction on test dataset\n",
        "ypredtest=clf.predict(X_test)\n",
        "\n",
        "# Calcuate accuracy\n",
        "print(\"Accuracy Score for Test Data is\", accuracy_score(y_test,ypredtest))\n"
      ],
      "metadata": {
        "colab": {
          "base_uri": "https://localhost:8080/"
        },
        "id": "0XwZvA3lttQu",
        "outputId": "316b3803-d8e8-427a-904e-a7f47ffa5857"
      },
      "execution_count": null,
      "outputs": [
        {
          "output_type": "stream",
          "name": "stdout",
          "text": [
            "Accuracy Score for Train Data is 0.9595799649970831\n",
            "Accuracy Score for Test Data is 0.9563333333333334\n"
          ]
        }
      ]
    },
    {
      "cell_type": "markdown",
      "source": [
        "# **Model Measurement Analysis** \n",
        "\n",
        "*   Confusion Matrix \n",
        "*   Accuracy \n",
        "*   Precision \n",
        "*   Recall "
      ],
      "metadata": {
        "id": "cZGxjrXcbzqV"
      }
    },
    {
      "cell_type": "code",
      "source": [
        "from sklearn.metrics import confusion_matrix\n",
        "conftrain=confusion_matrix(y_train,ypredtrain)\n",
        "print(\"Train Confusion Matrix is\\n\", conftrain)\n",
        " "
      ],
      "metadata": {
        "colab": {
          "base_uri": "https://localhost:8080/"
        },
        "id": "Z-SYK7-aizey",
        "outputId": "d61e2751-2cc1-456d-a03d-f832c37ea937"
      },
      "execution_count": null,
      "outputs": [
        {
          "output_type": "stream",
          "name": "stdout",
          "text": [
            "Train Confusion Matrix is\n",
            " [[8907  227]\n",
            " [ 258 2607]]\n"
          ]
        }
      ]
    },
    {
      "cell_type": "code",
      "source": [
        "\n",
        "conftest=confusion_matrix(y_test,ypredtest)\n",
        "print(\"Test Confusion Matrix is\\n\", conftest)"
      ],
      "metadata": {
        "colab": {
          "base_uri": "https://localhost:8080/"
        },
        "id": "gxnMBTIXecjV",
        "outputId": "19f968fe-b492-4bda-9341-411c32f68fa8"
      },
      "execution_count": null,
      "outputs": [
        {
          "output_type": "stream",
          "name": "stdout",
          "text": [
            "Test Confusion Matrix is\n",
            " [[2243   51]\n",
            " [  80  626]]\n"
          ]
        }
      ]
    },
    {
      "cell_type": "markdown",
      "source": [
        ""
      ],
      "metadata": {
        "id": "9G6Tgq0ceWaZ"
      }
    },
    {
      "cell_type": "code",
      "source": [
        "\n",
        "TN, FN, FP, TP = metrics.confusion_matrix(list(y_test), list(ypredtest), labels=[0, 1]).ravel() #0,1 is default label of sklearn\n",
        "\n",
        "print(\"\\n For Test Data\")\n",
        "print(\"\\nTH\",TN)\n",
        "print(\"\\nTP\",TP)\n",
        "print(\"\\nFH\",FN)\n",
        "print(\"\\nFP\",FP)"
      ],
      "metadata": {
        "colab": {
          "base_uri": "https://localhost:8080/"
        },
        "id": "lakP-2PXeXiy",
        "outputId": "8f406e54-c85f-47ce-9dbf-5039ae474f38"
      },
      "execution_count": null,
      "outputs": [
        {
          "output_type": "stream",
          "name": "stdout",
          "text": [
            "\n",
            " For Test Data\n",
            "\n",
            "TH 2243\n",
            "\n",
            "TP 626\n",
            "\n",
            "FH 51\n",
            "\n",
            "FP 80\n"
          ]
        }
      ]
    },
    {
      "cell_type": "code",
      "source": [
        "TN, FN, FP, TP = metrics.confusion_matrix(list(y_train), list(ypredtrain), labels=[0, 1]).ravel() #0,1 is default label of sklearn\n",
        "\n",
        "print(\"\\n For Train Data\")\n",
        "print(\"\\nTH\",TN)\n",
        "print(\"\\nTP\",TP)\n",
        "print(\"\\nFH\",FN)\n",
        "print(\"\\nFP\",FP)"
      ],
      "metadata": {
        "colab": {
          "base_uri": "https://localhost:8080/"
        },
        "id": "p_XM13B8l51W",
        "outputId": "be876b4d-da1e-4e78-88a0-8ed60d972579"
      },
      "execution_count": null,
      "outputs": [
        {
          "output_type": "stream",
          "name": "stdout",
          "text": [
            "\n",
            " For Train Data\n",
            "\n",
            "TH 8907\n",
            "\n",
            "TP 2607\n",
            "\n",
            "FH 227\n",
            "\n",
            "FP 258\n"
          ]
        }
      ]
    },
    {
      "cell_type": "code",
      "source": [
        "print(\"\\n Test Precision is\", metrics.precision_score(y_test, ypredtest))"
      ],
      "metadata": {
        "colab": {
          "base_uri": "https://localhost:8080/"
        },
        "id": "S4xurzyjmxgw",
        "outputId": "08d3fd2d-49d8-4dfa-958d-b4d31171f9f5"
      },
      "execution_count": null,
      "outputs": [
        {
          "output_type": "stream",
          "name": "stdout",
          "text": [
            "\n",
            " Test Precision is 0.9246676514032496\n"
          ]
        }
      ]
    },
    {
      "cell_type": "code",
      "source": [
        "print(\"\\n Train Precision is\", metrics.precision_score(y_train, ypredtrain))"
      ],
      "metadata": {
        "colab": {
          "base_uri": "https://localhost:8080/"
        },
        "id": "berx7xgSnwfX",
        "outputId": "c81b59e1-0124-4b54-de30-31cd911834d6"
      },
      "execution_count": null,
      "outputs": [
        {
          "output_type": "stream",
          "name": "stdout",
          "text": [
            "\n",
            " Train Precision is 0.9199011997177134\n"
          ]
        }
      ]
    },
    {
      "cell_type": "code",
      "source": [
        "print(\"\\n Test Recall is\", metrics.recall_score(y_test, ypredtest))"
      ],
      "metadata": {
        "colab": {
          "base_uri": "https://localhost:8080/"
        },
        "id": "3mS9eENdnx0d",
        "outputId": "90360791-6bfb-4412-e9ae-a91ca2f75240"
      },
      "execution_count": null,
      "outputs": [
        {
          "output_type": "stream",
          "name": "stdout",
          "text": [
            "\n",
            " Test Recall is 0.886685552407932\n"
          ]
        }
      ]
    },
    {
      "cell_type": "code",
      "source": [
        "print(\"\\n Train Recall is\", metrics.precision_score(y_train, ypredtrain))"
      ],
      "metadata": {
        "colab": {
          "base_uri": "https://localhost:8080/"
        },
        "id": "T2wRkWavoEyF",
        "outputId": "5264b281-5827-4c34-dafa-236b7720ebda"
      },
      "execution_count": null,
      "outputs": [
        {
          "output_type": "stream",
          "name": "stdout",
          "text": [
            "\n",
            " Train Recall is 0.9199011997177134\n"
          ]
        }
      ]
    },
    {
      "cell_type": "markdown",
      "source": [
        ""
      ],
      "metadata": {
        "id": "iXsMaQjGdOlx"
      }
    },
    {
      "cell_type": "code",
      "source": [
        "\n",
        "classes = [0, 1]\n",
        "\n",
        "# plot train  confusion matrix\n",
        "myplt=plt.figure(figsize=(8,8))\n",
        "ax1 = myplt.add_subplot(2,2,1)\n",
        "\n",
        "plt.imshow(conftrain, interpolation='nearest', cmap=plt.cm.Blues)\n",
        "plt.title(\"Train Confusion Matrix\")\n",
        "ax1=plt.colorbar()\n",
        "tick_marks = np.arange(len(classes))\n",
        "plt.xticks(tick_marks, classes)\n",
        "plt.yticks(tick_marks, classes)\n",
        "\n",
        "fmt = 'd'\n",
        "thresh = conftrain.max() / 2.\n",
        "for i, j in itertools.product(range(conftrain.shape[0]), range(conftrain.shape[1])):\n",
        "    plt.text(j, i, format(conftrain[i, j], fmt),\n",
        "             horizontalalignment=\"center\",\n",
        "             color=\"white\" if conftrain[i, j] > thresh else \"black\")\n",
        "\n",
        "plt.tight_layout()\n",
        "plt.ylabel('True label')\n",
        "plt.xlabel('Predicted label')\n",
        "\n",
        "# plot test confusion matrix\n",
        "ax2 = myplt.add_subplot(2,2,2)\n",
        "\n",
        "plt.imshow(conftest, interpolation='nearest', cmap=plt.cm.Greens)\n",
        "plt.title(\"Test Confusion Matrix\")\n",
        "ax2=plt.colorbar()\n",
        "tick_marks = np.arange(len(classes))\n",
        "plt.xticks(tick_marks, classes)\n",
        "plt.yticks(tick_marks, classes)\n",
        "\n",
        "fmt = 'd'\n",
        "thresh = conftest.max() / 2.\n",
        "for i, j in itertools.product(range(conftest.shape[0]), range(conftest.shape[1])):\n",
        "    plt.text(j, i, format(conftest[i, j], fmt),\n",
        "             horizontalalignment=\"center\",\n",
        "             color=\"white\" if conftest[i, j] > thresh else \"black\")\n",
        "\n",
        "plt.tight_layout()\n",
        "plt.ylabel('True label')\n",
        "plt.xlabel('Predicted label')"
      ],
      "metadata": {
        "colab": {
          "base_uri": "https://localhost:8080/",
          "height": 321
        },
        "id": "KlvukyywdQAr",
        "outputId": "d93ed204-b0ed-415f-b5e7-aac924cec351"
      },
      "execution_count": null,
      "outputs": [
        {
          "output_type": "execute_result",
          "data": {
            "text/plain": [
              "Text(0.5, 304.56945454545456, 'Predicted label')"
            ]
          },
          "metadata": {},
          "execution_count": 51
        },
        {
          "output_type": "display_data",
          "data": {
            "text/plain": [
              "<Figure size 576x576 with 4 Axes>"
            ],
            "image/png": "[encoded data removed]"
          },
          "metadata": {
            "needs_background": "light"
          }
        }
      ]
    },
    {
      "cell_type": "markdown",
      "source": [
        ""
      ],
      "metadata": {
        "id": "CXXwEP9rcsbz"
      }
    }
  ]
}