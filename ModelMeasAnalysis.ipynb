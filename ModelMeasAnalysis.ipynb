{
  "nbformat": 4,
  "nbformat_minor": 0,
  "metadata": {
    "colab": {
      "name": "Lab#3_ClassificationModelMeasurementAnalysis.ipynb",
      "provenance": [],
      "collapsed_sections": []
    },
    "kernelspec": {
      "name": "python3",
      "display_name": "Python 3"
    },
    "language_info": {
      "name": "python"
    }
  },
  "cells": [
    {
      "cell_type": "markdown",
      "source": [
        "# **Model Measurement Analysis**\n",
        "\n",
        "# **Using any dataset and any classifier do the following:**\n",
        "\n",
        "**a)** Calculate TP, TN, FP and FN from sklearn library functions\n",
        "\n",
        "**b)** Calculate different metrics (Accuracy, Precision, Recall(Sensitivity), F1-Score, MCC, Specificity, Negative Predictive Value) by defining our own functions\n",
        "\n",
        "**c)** Get the sklearn metrics of these values\n",
        "\n",
        "**d)** Verify them by comparing with scikit-learn's library functions.\n",
        "\n",
        "**e)** Get the result of Confusion Matrix using sklearn\n",
        "\n",
        "**f)** Using sklearn, plot the ROC Curve of the probability values in our test data\n",
        "\n",
        "**g)** Using sklearn, plot the ROC Curve of random probabilities\n",
        "\n",
        "**h)** Calculate the AUC of our test data using sklearn\n",
        "\n",
        "**i)** Calculate the AUC of random probabilities using sklearn\n",
        "\n",
        "**j)** Interpret the results. Write the inference/analysis of each output. \n"
      ],
      "metadata": {
        "id": "Ju_p7oErrdCO"
      }
    },
    {
      "cell_type": "code",
      "source": [
        "import numpy as np\n",
        "import pandas as pd\n",
        "from sklearn.datasets import load_breast_cancer\n",
        "from sklearn.model_selection import train_test_split\n",
        "from sklearn import svm\n",
        "from sklearn import metrics\n",
        "import matplotlib.pyplot as plt\n",
        "import seaborn as sns\n",
        "import itertools\n",
        "\n",
        "np.random.seed(42)  # for reproducibility\n",
        "sns.set(rc={\"figure.figsize\": (8, 8)})\n",
        "sns.set_style(\"ticks\")"
      ],
      "metadata": {
        "id": "o6akAk6srfGc"
      },
      "execution_count": null,
      "outputs": []
    },
    {
      "cell_type": "markdown",
      "source": [
        "# **Dataset**\n",
        "Breast Cancer Dataset provided by sckit-learn in dataset module is used. \n",
        "*   Desscribe. this dataset\n",
        "*   Analyze it\n",
        "\n"
      ],
      "metadata": {
        "id": "HqeA_2YLsemn"
      }
    },
    {
      "cell_type": "code",
      "source": [
        "data = load_breast_cancer()\n",
        "print(data.DESCR[:760])  # print short description\n",
        "\n"
      ],
      "metadata": {
        "colab": {
          "base_uri": "https://localhost:8080/"
        },
        "id": "-2jEWUtlYSxw",
        "outputId": "3e1c4510-283b-4948-871c-97303bbd3585"
      },
      "execution_count": null,
      "outputs": [
        {
          "output_type": "stream",
          "name": "stdout",
          "text": [
            ".. _breast_cancer_dataset:\n",
            "\n",
            "Breast cancer wisconsin (diagnostic) dataset\n",
            "--------------------------------------------\n",
            "\n",
            "**Data Set Characteristics:**\n",
            "\n",
            "    :Number of Instances: 569\n",
            "\n",
            "    :Number of Attributes: 30 numeric, predictive attributes and the class\n",
            "\n",
            "    :Attribute Information:\n",
            "        - radius (mean of distances from center to points on the perimeter)\n",
            "        - texture (standard deviation of gray-scale values)\n",
            "        - perimeter\n",
            "        - area\n",
            "        - smoothness (local variation in radius lengths)\n",
            "        - compactness (perimeter^2 / area - 1.0)\n",
            "        - concavity (severity of concave portions of the contour)\n",
            "        - concave points (number of concave portions of the contour)\n",
            "        - symmetry\n",
            "        - fractal dimension (\"coastline appr\n"
          ]
        }
      ]
    },
    {
      "cell_type": "markdown",
      "source": [
        "# **Analysis of the Dataset**\n",
        "*   There are 569 instances \n",
        "*   Each instance has 30 attributes \n",
        "*   Description - Specification, Name of each attribute is listed\n",
        "\n",
        "\n",
        "\n",
        "\n",
        "\n",
        "\n",
        "\n",
        "\n",
        "\n",
        "\n"
      ],
      "metadata": {
        "id": "90_RTdSuuZ1q"
      }
    },
    {
      "cell_type": "code",
      "source": [
        "print(f\"Types of cancer (targets) are {data.target_names}\")"
      ],
      "metadata": {
        "colab": {
          "base_uri": "https://localhost:8080/"
        },
        "id": "DyEyumrD0v_B",
        "outputId": "52fdf02f-3f88-4d5e-ada2-3c3b58b3a193"
      },
      "execution_count": null,
      "outputs": [
        {
          "output_type": "stream",
          "name": "stdout",
          "text": [
            "Types of cancer (targets) are ['malignant' 'benign']\n"
          ]
        }
      ]
    },
    {
      "cell_type": "markdown",
      "source": [
        "# **Analysis of Output:**\n",
        "# **What are the targets classes i.e. types of cancer.?**\n",
        "Target Attribute Values are - **['malignant' 'benign']**\n",
        "\n",
        "This dataset is used for binary classification between two types of cancer(\"Malignant\" and \"Benign\").\n"
      ],
      "metadata": {
        "id": "-gbNHO150i1X"
      }
    },
    {
      "cell_type": "code",
      "source": [
        "X = data.data  # features\n",
        "y = data.target  # labels\n",
        "print(f\"Shape of features is {X.shape}, and shape of target is {y.shape}\")\n",
        "print(\"Targets are: \", y)\n"
      ],
      "metadata": {
        "colab": {
          "base_uri": "https://localhost:8080/"
        },
        "id": "WzrIm46juDDr",
        "outputId": "ed2bc9f3-c327-4959-fb22-f6cb3c11db91"
      },
      "execution_count": null,
      "outputs": [
        {
          "output_type": "stream",
          "name": "stdout",
          "text": [
            "Shape of features is (569, 30), and shape of target is (569,)\n",
            "Targets are:  [0 0 0 0 0 0 0 0 0 0 0 0 0 0 0 0 0 0 0 1 1 1 0 0 0 0 0 0 0 0 0 0 0 0 0 0 0\n",
            " 1 0 0 0 0 0 0 0 0 1 0 1 1 1 1 1 0 0 1 0 0 1 1 1 1 0 1 0 0 1 1 1 1 0 1 0 0\n",
            " 1 0 1 0 0 1 1 1 0 0 1 0 0 0 1 1 1 0 1 1 0 0 1 1 1 0 0 1 1 1 1 0 1 1 0 1 1\n",
            " 1 1 1 1 1 1 0 0 0 1 0 0 1 1 1 0 0 1 0 1 0 0 1 0 0 1 1 0 1 1 0 1 1 1 1 0 1\n",
            " 1 1 1 1 1 1 1 1 0 1 1 1 1 0 0 1 0 1 1 0 0 1 1 0 0 1 1 1 1 0 1 1 0 0 0 1 0\n",
            " 1 0 1 1 1 0 1 1 0 0 1 0 0 0 0 1 0 0 0 1 0 1 0 1 1 0 1 0 0 0 0 1 1 0 0 1 1\n",
            " 1 0 1 1 1 1 1 0 0 1 1 0 1 1 0 0 1 0 1 1 1 1 0 1 1 1 1 1 0 1 0 0 0 0 0 0 0\n",
            " 0 0 0 0 0 0 0 1 1 1 1 1 1 0 1 0 1 1 0 1 1 0 1 0 0 1 1 1 1 1 1 1 1 1 1 1 1\n",
            " 1 0 1 1 0 1 0 1 1 1 1 1 1 1 1 1 1 1 1 1 1 0 1 1 1 0 1 0 1 1 1 1 0 0 0 1 1\n",
            " 1 1 0 1 0 1 0 1 1 1 0 1 1 1 1 1 1 1 0 0 0 1 1 1 1 1 1 1 1 1 1 1 0 0 1 0 0\n",
            " 0 1 0 0 1 1 1 1 1 0 1 1 1 1 1 0 1 1 1 0 1 1 0 0 1 1 1 1 1 1 0 1 1 1 1 1 1\n",
            " 1 0 1 1 1 1 1 0 1 1 0 1 1 1 1 1 1 1 1 1 1 1 1 0 1 0 0 1 0 1 1 1 1 1 0 1 1\n",
            " 0 1 0 1 1 0 1 0 1 1 1 1 1 1 1 1 0 0 1 1 1 1 1 1 0 1 1 1 1 1 1 1 1 1 1 0 1\n",
            " 1 1 1 1 1 1 0 1 0 1 1 0 1 1 1 1 1 0 0 1 0 1 0 1 1 1 1 1 0 1 1 0 1 0 1 0 0\n",
            " 1 1 1 0 1 1 1 1 1 1 1 1 1 1 1 0 1 0 0 1 1 1 1 1 1 1 1 1 1 1 1 1 1 1 1 1 1\n",
            " 1 1 1 1 1 1 1 0 0 0 0 0 0 1]\n"
          ]
        }
      ]
    },
    {
      "cell_type": "markdown",
      "source": [
        "# **Analysis of Output**\n",
        "We will consider benign as positive class, and malignant as negative class. Therefore, \n",
        "*   **0 for is_not_benign(malignant)**\n",
        "*   **1 for is_benign**"
      ],
      "metadata": {
        "id": "twmtZakR3bFE"
      }
    },
    {
      "cell_type": "code",
      "source": [
        "X_train, X_test, y_train, y_test = train_test_split(X, y, test_size=200, random_state=42, stratify=y)\n",
        "y_train[:10]"
      ],
      "metadata": {
        "colab": {
          "base_uri": "https://localhost:8080/"
        },
        "id": "3ANOXm4x38B4",
        "outputId": "7cd262e9-b47d-4936-ef35-093124f1276d"
      },
      "execution_count": null,
      "outputs": [
        {
          "output_type": "execute_result",
          "data": {
            "text/plain": [
              "array([1, 1, 1, 1, 0, 1, 1, 1, 0, 1])"
            ]
          },
          "metadata": {},
          "execution_count": 5
        }
      ]
    },
    {
      "cell_type": "markdown",
      "source": [
        "# **Split the data**\n",
        "Since we shouldn't train and test our model with the same dataset, it is always a good idea to split the data in three parts - train data, test data, and validation data.\n",
        "\n",
        "We won't require validation data here. \n",
        "We split the dataset into training and testing data\n",
        "*   200 examples for testing. Code : test_size=200 \n",
        "*   Rest, 369 examples for training\n",
        "\n",
        "\n"
      ],
      "metadata": {
        "id": "kPj18it81G3G"
      }
    },
    {
      "cell_type": "code",
      "source": [
        "classifier = svm.SVC(kernel='linear', probability=True, verbose=True)"
      ],
      "metadata": {
        "id": "ox0N1SBH1H3f"
      },
      "execution_count": null,
      "outputs": []
    },
    {
      "cell_type": "markdown",
      "source": [
        "# **Analysis of Code:**\n",
        "\n",
        "**Classifier Used:** scikit's Support Vector Machines classifier for prediction. That is: sklearn.svm.\n",
        "\n"
      ],
      "metadata": {
        "id": "PHAHMREdyYnR"
      }
    },
    {
      "cell_type": "code",
      "source": [
        "classifier.fit(X_train, y_train)"
      ],
      "metadata": {
        "colab": {
          "base_uri": "https://localhost:8080/"
        },
        "id": "EFAXE9E_uU6D",
        "outputId": "14c0ca0e-a404-4a23-cafd-c6f193f9fbfd"
      },
      "execution_count": null,
      "outputs": [
        {
          "output_type": "stream",
          "name": "stdout",
          "text": [
            "[LibSVM]"
          ]
        },
        {
          "output_type": "execute_result",
          "data": {
            "text/plain": [
              "SVC(kernel='linear', probability=True, verbose=True)"
            ]
          },
          "metadata": {},
          "execution_count": 7
        }
      ]
    },
    {
      "cell_type": "markdown",
      "source": [
        "# **Analysis of Code:**\n",
        "*   fit/train the model on our training dataset.\n",
        "*   It trains quite fast since we are working with relatively small dataset."
      ],
      "metadata": {
        "id": "U7hZyruP5i3f"
      }
    },
    {
      "cell_type": "code",
      "source": [
        "y_preds = classifier.predict(X_test)\n",
        "y_proba = classifier.predict_proba(X_test)\n",
        "print(\"Prediction as class - malignanat or benign \", y_preds[:5])\n",
        "print(\"Test Data are: \", y_test[:5])\n",
        "print(\"Probability of malignant & probability of benign. \", y_proba[:5])\n"
      ],
      "metadata": {
        "colab": {
          "base_uri": "https://localhost:8080/"
        },
        "id": "68uDxHfKYyzX",
        "outputId": "d8b718ce-0f67-4271-aeac-6db57bc72b5d"
      },
      "execution_count": null,
      "outputs": [
        {
          "output_type": "stream",
          "name": "stdout",
          "text": [
            "Prediction as class - malignanat or benign  [1 0 1 1 1]\n",
            "Test Data are:  [1 0 1 1 1]\n",
            "Probability of malignant & probability of benign.  [[3.02737643e-03 9.96972624e-01]\n",
            " [9.18633556e-01 8.13664441e-02]\n",
            " [8.32311692e-06 9.99991677e-01]\n",
            " [3.19060750e-02 9.68093925e-01]\n",
            " [9.28066587e-07 9.99999072e-01]]\n"
          ]
        }
      ]
    },
    {
      "cell_type": "markdown",
      "source": [
        "\n",
        "\n",
        "\n",
        "# **Analysis of Code &. Output**\n",
        "*   Save the prediction results both as ***probability*** and as ***classes***.\n",
        "*   **y_preds** is a *1D vector* of one of {0, 1} values, denoting predictions as malignant and benign, respectively.\n",
        "*   **y_test** is a 1D vector of one of (0,1) values of the 200 samples of test data \n",
        "*   **y_proba** is a *2D vector*, where for each example, it contains a vector of length 2,[prob. of malignant, prob. of benign]\n",
        "\n",
        "\n",
        "\n",
        "\n",
        "\n"
      ],
      "metadata": {
        "id": "0MPAqcTF54Hz"
      }
    },
    {
      "cell_type": "code",
      "source": [
        "y_proba = y_proba[:,1].reshape((y_proba.shape[0],))\n",
        "print(\"2D to 1D reshaped Probability of benign. \", y_proba[:5])\n"
      ],
      "metadata": {
        "colab": {
          "base_uri": "https://localhost:8080/"
        },
        "id": "gn99uG4lDV9J",
        "outputId": "cf2733e2-a509-4603-df42-434c4ef0d140"
      },
      "execution_count": null,
      "outputs": [
        {
          "output_type": "stream",
          "name": "stdout",
          "text": [
            "2D to 1D reshaped Probability of benign.  [0.99697262 0.08136644 0.99999168 0.96809392 0.99999907]\n"
          ]
        }
      ]
    },
    {
      "cell_type": "markdown",
      "source": [
        "# **Analysis of Code &. Output**\n",
        "**y_proba** is reshaped into a 1D vector denoting the probability of having benign cancer."
      ],
      "metadata": {
        "id": "IHYP6OseEzLq"
      }
    },
    {
      "cell_type": "code",
      "source": [
        "TN, FP, FP, TP = metrics.confusion_matrix(list(y_test), list(y_preds), labels=[0, 1]).ravel() #0,1 is default label of sklearn \n",
        "print(\"True Negatives\", TN)\n",
        "print(\"True Positives\", TP)\n",
        "print(\"False Positives\", FP)\n",
        "print(\"False Negatives\", FP)\n",
        "\n",
        "results = {} #Dont miss tbis declaration. Later used to calculate ACcuracy etc. \n",
        "\n",
        "conf = metrics.confusion_matrix(y_test, y_preds,labels=[1,0]) #Note to change the labels from the default 0,1 to 1,0\n",
        "print(\"Confusion Matrix we want is: \\n\", conf)\n",
        "\n"
      ],
      "metadata": {
        "colab": {
          "base_uri": "https://localhost:8080/"
        },
        "id": "BhvPyemUZBLs",
        "outputId": "eed6e0e0-5752-4c61-f37e-6746c4fdf5b9"
      },
      "execution_count": null,
      "outputs": [
        {
          "output_type": "stream",
          "name": "stdout",
          "text": [
            "True Negatives 68\n",
            "True Positives 123\n",
            "False Positives 2\n",
            "False Negatives 2\n",
            "Confusion Matrix we want is: \n",
            " [[123   2]\n",
            " [  7  68]]\n"
          ]
        }
      ]
    },
    {
      "cell_type": "markdown",
      "source": [
        "# **Analysis of code**\n",
        "**Confusion Matrix**\n",
        "*   Calculate confusion matrix of the predictions\n",
        "*   Implemented in Scikit-learn's sklearn.metrics.confusion_matrix."
      ],
      "metadata": {
        "id": "cBUVoZeaHU9L"
      }
    },
    {
      "cell_type": "code",
      "source": [
        "classes = [0, 1]\n",
        "# plot confusion matrix\n",
        "plt.imshow(conf, interpolation='nearest', cmap=plt.cm.Greens)\n",
        "plt.title(\"Confusion Matrix\")\n",
        "plt.colorbar()\n",
        "tick_marks = np.arange(len(classes))\n",
        "plt.xticks(tick_marks, classes)\n",
        "plt.yticks(tick_marks, classes)\n",
        "\n",
        "fmt = 'd'\n",
        "thresh = conf.max() / 2.\n",
        "for i, j in itertools.product(range(conf.shape[0]), range(conf.shape[1])):\n",
        "    plt.text(j, i, format(conf[i, j], fmt),\n",
        "             horizontalalignment=\"center\",\n",
        "             color=\"white\" if conf[i, j] > thresh else \"black\")\n",
        "\n",
        "plt.tight_layout()\n",
        "plt.ylabel('True label')\n",
        "plt.xlabel('Predicted label')"
      ],
      "metadata": {
        "colab": {
          "base_uri": "https://localhost:8080/",
          "height": 331
        },
        "id": "tbESyOSJZNRQ",
        "outputId": "6aea77b2-f18b-43bd-a566-9a5920ff73df"
      },
      "execution_count": null,
      "outputs": [
        {
          "output_type": "execute_result",
          "data": {
            "text/plain": [
              "Text(0.5, 12.5, 'Predicted label')"
            ]
          },
          "metadata": {},
          "execution_count": 11
        },
        {
          "output_type": "display_data",
          "data": {
            "text/plain": [
              "<Figure size 432x288 with 2 Axes>"
            ],
            "image/png": "[encoded data removed]"
          },
          "metadata": {
            "needs_background": "light"
          }
        }
      ]
    },
    {
      "cell_type": "markdown",
      "source": [
        "**Below is. the code**\n",
        "\n",
        "# **Analysis of Code & above Output**\n",
        "From the confusion matrix, we can see the number of examples predicted correct by our classifier, for both classes seperately.\n",
        "*   Get the numbers of True Positives, True Negatives, False Positives, and False Negatives from this confusion matrix.\n",
        "*   Store these terms in some variables\n",
        "*   Calculate the Accuracy \n",
        "\n"
      ],
      "metadata": {
        "id": "5HyemYEaIiTu"
      }
    },
    {
      "cell_type": "markdown",
      "source": [
        "# **Calculate Accuracy**\n",
        "number of examples correctly predicted / total number of examples\n",
        "\n",
        "![alt text](https://wikimedia.org/api/rest_v1/media/math/render/svg/c72ec21ef2505c2d376e96197637fc64f75e5891)"
      ],
      "metadata": {
        "id": "h1RWwIpQNnVb"
      }
    },
    {
      "cell_type": "code",
      "source": [
        "metric = \"ACC\"\n",
        "results[metric] = (TP + TN) / (TP + TN + FP + FN)\n",
        "print(f\"{metric} is {results[metric]: .3f}\") #Note the Formatting with f\"{metric} and rounding to 3 decimal points with .3f"
      ],
      "metadata": {
        "colab": {
          "base_uri": "https://localhost:8080/",
          "height": 217
        },
        "id": "u_9yKLo1NpHW",
        "outputId": "f8fbc296-b77f-43b4-a99c-6b8b3b5c5d82"
      },
      "execution_count": null,
      "outputs": [
        {
          "output_type": "error",
          "ename": "NameError",
          "evalue": "ignored",
          "traceback": [
            "\u001b[0;31m---------------------------------------------------------------------------\u001b[0m",
            "\u001b[0;31mNameError\u001b[0m                                 Traceback (most recent call last)",
            "\u001b[0;32m<ipython-input-12-cbb5aefc8cf4>\u001b[0m in \u001b[0;36m<module>\u001b[0;34m()\u001b[0m\n\u001b[1;32m      1\u001b[0m \u001b[0mmetric\u001b[0m \u001b[0;34m=\u001b[0m \u001b[0;34m\"ACC\"\u001b[0m\u001b[0;34m\u001b[0m\u001b[0;34m\u001b[0m\u001b[0m\n\u001b[0;32m----> 2\u001b[0;31m \u001b[0mresults\u001b[0m\u001b[0;34m[\u001b[0m\u001b[0mmetric\u001b[0m\u001b[0;34m]\u001b[0m \u001b[0;34m=\u001b[0m \u001b[0;34m(\u001b[0m\u001b[0mTP\u001b[0m \u001b[0;34m+\u001b[0m \u001b[0mTN\u001b[0m\u001b[0;34m)\u001b[0m \u001b[0;34m/\u001b[0m \u001b[0;34m(\u001b[0m\u001b[0mTP\u001b[0m \u001b[0;34m+\u001b[0m \u001b[0mTN\u001b[0m \u001b[0;34m+\u001b[0m \u001b[0mFP\u001b[0m \u001b[0;34m+\u001b[0m \u001b[0mFN\u001b[0m\u001b[0;34m)\u001b[0m\u001b[0;34m\u001b[0m\u001b[0;34m\u001b[0m\u001b[0m\n\u001b[0m\u001b[1;32m      3\u001b[0m \u001b[0mprint\u001b[0m\u001b[0;34m(\u001b[0m\u001b[0;34mf\"{metric} is {results[metric]: .3f}\"\u001b[0m\u001b[0;34m)\u001b[0m \u001b[0;31m#Note the Formatting with f\"{metric} and rounding to 3 decimal points with .3f\u001b[0m\u001b[0;34m\u001b[0m\u001b[0;34m\u001b[0m\u001b[0m\n",
            "\u001b[0;31mNameError\u001b[0m: name 'FN' is not defined"
          ]
        }
      ]
    },
    {
      "cell_type": "markdown",
      "source": [
        "# **Calculate Sensitivity or Recall or True Positive Rate(TPR)**\n",
        "number of samples actually and predicted as  `Positive` / total number of samples actually `Positive`  \n",
        "\n",
        "  \n",
        "![alt text](https://wikimedia.org/api/rest_v1/media/math/render/svg/64d5540cbadeb83f864d7a731b7ab43cccd0f353)"
      ],
      "metadata": {
        "id": "nOENMtTCKkGM"
      }
    },
    {
      "cell_type": "code",
      "source": [
        "metric = \"TPR\"\n",
        "results[metric] = TP / (TP + FN)\n",
        "print(f\"{metric} is {results[metric]: .3f}\")"
      ],
      "metadata": {
        "id": "n8iTZRbFZc8l"
      },
      "execution_count": null,
      "outputs": []
    },
    {
      "cell_type": "markdown",
      "source": [
        "# **Calculate Specificity/True Negative Rate(TNR)**\n",
        "number of samples actually and predicted as  `Negative` / total number of samples actually  `Negative`  \n",
        " \n",
        "![alt text](https://wikimedia.org/api/rest_v1/media/math/render/svg/aac65b6586cb61c1268403895012c2a8f19b0c5e)\n"
      ],
      "metadata": {
        "id": "Wc4c__C9Kvuc"
      }
    },
    {
      "cell_type": "code",
      "source": [
        "metric = \"TNR\"\n",
        "results[metric] = TN / (TN + FP)\n",
        "print(f\"{metric} is {results[metric]: .3f}\")"
      ],
      "metadata": {
        "id": "FlB5iC_QZg7w"
      },
      "execution_count": null,
      "outputs": []
    },
    {
      "cell_type": "markdown",
      "source": [
        "# **Calculate Precision/Positive Predictive Value(PPV)**\n",
        "number of samples actually and predicted as  `Positive` / total number of samples predicted as `Positive`  \n",
        "\n",
        "![alt text](https://wikimedia.org/api/rest_v1/media/math/render/svg/699fcdb880b7f6a92742bc0845b8b60b59806a98)"
      ],
      "metadata": {
        "id": "bDfbVypUK2_m"
      }
    },
    {
      "cell_type": "code",
      "source": [
        "metric = \"PPV\"\n",
        "results[metric] = TP / (TP + FP)\n",
        "print(f\"{metric} is {results[metric]: .3f}\")"
      ],
      "metadata": {
        "id": "5UDIVdmSZlKx"
      },
      "execution_count": null,
      "outputs": []
    },
    {
      "cell_type": "code",
      "source": [
        ""
      ],
      "metadata": {
        "id": "-ThgJ9xYMKKh"
      },
      "execution_count": null,
      "outputs": []
    },
    {
      "cell_type": "markdown",
      "source": [
        "# **Calculate Negative Predictive Value(NPV)**\n",
        "number of samples actually and predicted as  `Negative` / total number of samples predicted as `Negative`    \n",
        "![alt text](https://wikimedia.org/api/rest_v1/media/math/render/svg/b6da0f59faffbc1704974e97847ab4fa599f5521)\n"
      ],
      "metadata": {
        "id": "dZ9lP0fPLmGU"
      }
    },
    {
      "cell_type": "code",
      "source": [
        "metric = \"NPV)\"\n",
        "results[metric] = TN / (TN + FN)\n",
        "print(f\"{metric} is {results[metric]: .3f}\")"
      ],
      "metadata": {
        "id": "Qj1MchY4Zp3O"
      },
      "execution_count": null,
      "outputs": []
    },
    {
      "cell_type": "markdown",
      "source": [
        "# **Negative F1-Score**\n",
        "Harmonic Mean of Precision and Recall.  \n",
        "![alt text](https://wikimedia.org/api/rest_v1/media/math/render/svg/5663ca95d471868169c4e4ea57c936f1b6f4a588)"
      ],
      "metadata": {
        "id": "138ywBTPLtIg"
      }
    },
    {
      "cell_type": "code",
      "source": [
        "metric = \"F1\"\n",
        "results[metric] = 2 / (1 / results[\"PPV\"] + 1 / results[\"TPR\"])\n",
        "print(f\"{metric} is {results[metric]: .3f}\")"
      ],
      "metadata": {
        "id": "mumBW5omZtN4"
      },
      "execution_count": null,
      "outputs": []
    },
    {
      "cell_type": "markdown",
      "source": [
        "# **Matthew's correlation coefficient(MCC)**\n",
        "MCC = (TP*TN – FP*FN) / √(TP+FP)(TP+FN)(TN+FP)(TN+FN)\n",
        "\n",
        "Matthew's coefficient range between `[-1, 1]`. `0` usually means totally random predictions. `1` means a perfect classifier, while a negative value (`[-1, 0)`) suggests a negative correlation between predictions and actual values.   \n",
        "Here' the formual for MCC  \n",
        "![alt text](https://wikimedia.org/api/rest_v1/media/math/render/svg/5caa90fc15105b74b59a30bbc9cc2e5bd43a13b7)"
      ],
      "metadata": {
        "id": "vpepuCQSMprd"
      }
    },
    {
      "cell_type": "code",
      "source": [
        "metric = \"MCC\"\n",
        "num = TP * TN - FP * FN\n",
        "den = ((TP + FP) * (TP + FN) * (TN + FP) * (TN + FN)) ** 0.5\n",
        "results[metric] = num / den\n",
        "print(f\"{metric} is {results[metric]: .3f}\")"
      ],
      "metadata": {
        "id": "pfXoklxGZxIO"
      },
      "execution_count": null,
      "outputs": []
    },
    {
      "cell_type": "code",
      "source": [
        "print(f\"Calculated and scikit-learn Accuracy:                          {results['ACC']: .3f}, {metrics.accuracy_score(y_test, y_preds): .3f}\")\n",
        "print(f\"Calculated and scikit-learn Precision score:                   {results['PPV']: .3f}, {metrics.precision_score(y_test, y_preds): .3f}\")\n",
        "print(f\"Calculated and scikit-learn Recall score:                      {results['TPR']: .3f}, {metrics.recall_score(y_test, y_preds): .3f}\")\n",
        "print(f\"Calculated and scikit-learn F1 score:                          {results['F1']: .3f}, {metrics.f1_score(y_test, y_preds): .3f}\")\n",
        "print(f\"Calculated and scikit-learn Matthew's correlation coefficient: {results['MCC']: .3f}, {metrics.matthews_corrcoef(y_test, y_preds): .3f}\")"
      ],
      "metadata": {
        "id": "I5eAnJwtZ2rV"
      },
      "execution_count": null,
      "outputs": []
    },
    {
      "cell_type": "markdown",
      "source": [
        "#**Comparing these calculated metrics with scikit-learn**\n",
        "\n",
        "**Analysis**: These values match with the values calculated from `scikit-learn`'s functions."
      ],
      "metadata": {
        "id": "GSwALcBaP2MJ"
      }
    },
    {
      "cell_type": "code",
      "source": [
        "def get_roc_curve(y_test, y_proba, delta=0.1):\n",
        "    \"\"\"\n",
        "    Return the True Positive Rates (TPRs), False Positive Rates (FPRs), \n",
        "    and the threshold values, seperated by delta.\n",
        "    \"\"\"\n",
        "    thresh = list(np.arange(0, 1, delta)) + [1]\n",
        "    TPRs = []\n",
        "    FPRs = []\n",
        "    y_pred = np.empty(y_proba.shape)\n",
        "    for th in thresh:\n",
        "        y_pred[y_proba < th] = 0\n",
        "        y_pred[y_proba >= th] = 1\n",
        "        \n",
        "        # confusion matrix from the function we defined\n",
        "        (TN, FP), (FN, TP) = get_confusion_matrix(y_test, y_pred)\n",
        "        \n",
        "        TPR = TP / (TP + FN)  # sensitivity\n",
        "        FPR = FP / (FP + TN)  # 1 - specificity\n",
        "        TPRs.append(TPR)\n",
        "        FPRs.append(FPR)\n",
        "    return FPRs, TPRs, thresh"
      ],
      "metadata": {
        "id": "9fwDwwH6Z6xx"
      },
      "execution_count": null,
      "outputs": []
    },
    {
      "cell_type": "code",
      "source": [
        "delta = 0.001\n",
        "FPRs, TPRs, _ = get_roc_curve(y_test, y_proba, delta)"
      ],
      "metadata": {
        "id": "RndOB8h5aA9Z"
      },
      "execution_count": null,
      "outputs": []
    },
    {
      "cell_type": "code",
      "source": [
        "# Plot the ROC curve\n",
        "myplt=plt.figure(figsize=(8,8))\n",
        "ax1 = myplt.add_subplot(2,2,1)\n",
        "ax1=plt.plot(FPRs, TPRs, color='red',\n",
        "         lw=2, label='ROC curve')\n",
        "plt.plot([0, 1], [0, 1], color='navy', lw=2, linestyle='--', label=\"Mean\")\n",
        "plt.xlim([-0.05, 1.0])\n",
        "plt.ylim([0.0, 1.05])\n",
        "plt.xlabel('False Positive Rate')\n",
        "plt.ylabel('True Positive Rate')\n",
        "plt.title(f'ROC curve (threshold delta = {delta})')\n",
        "plt.legend(loc=\"lower right\")\n",
        "\n",
        "# Plot the ROC curve for Random Probabilities \n",
        "\n",
        "# create random predictions\n",
        "rand_proba = np.random.random(size=(y_proba.shape))\n",
        "rand_proba[:5]  # 0.5 probability of being 0 or 1\n",
        "\n",
        "print(\"\\n Randon Probablities of Being Benign are: \",rand_proba[:5],\"\\n\" )\n",
        "FPRs, TPRs, _ = metrics.roc_curve(y_test, rand_proba)  # passing random preds\n",
        "\n",
        "ax2 = myplt.add_subplot(2,2,2)\n",
        "ax2=plt.plot(FPRs, TPRs, color='red',\n",
        "         lw=2, label='ROC curve')\n",
        "plt.plot([0, 1], [0, 1], color='navy', lw=2, linestyle='--', label=\"Mean\")\n",
        "plt.xlim([-0.05, 1.0])\n",
        "plt.ylim([0.0, 1.05])\n",
        "plt.xlabel('False Positive Rate')\n",
        "plt.ylabel('True Positive Rate')\n",
        "plt.title(\"Scikit-learn's Random Predictions ROC curve\")\n",
        "plt.legend(loc=\"lower right\")\n",
        "\n",
        "plt.show()"
      ],
      "metadata": {
        "id": "9ZN24GVOaMk-"
      },
      "execution_count": null,
      "outputs": []
    },
    {
      "cell_type": "markdown",
      "source": [
        "# **ROC curve (Receiver Operating Characteristic curve)**\n",
        "\n",
        "A receiver operating characteristic curve, i.e. ROC curve, is a graphical plot that illustrates the diagnostic ability of a binary classifier system as its discrimination threshold is varied.\n",
        "\n",
        "The ROC curve is created by plotting the True Positive Rate (TPR) against the False Positive Rate (FPR) *at various threshold settings. *\n",
        "\n",
        "**Analysis**: The above is the ROC curve for the Breast Cancer Dataset.\n",
        "\n",
        "1. The peak towards left-most corner means near perfect classifier\n",
        "\n",
        "2. Random prediction will have the curve as the blue dotted straight line.\n",
        "\n",
        "3. This ROC curve tells us that our model is nearly perfect classifier, with high accuracy!"
      ],
      "metadata": {
        "id": "dikrqQpNYSSO"
      }
    },
    {
      "cell_type": "code",
      "source": [
        "auc_score = metrics.roc_auc_score(y_test, y_proba)\n",
        "print(f\"Scikit's ROC-AUC score of SVC model is {auc_score: .4f}\")"
      ],
      "metadata": {
        "id": "4D5SmBn2YW7A"
      },
      "execution_count": null,
      "outputs": []
    },
    {
      "cell_type": "markdown",
      "source": [
        "# **AUC: Area under the Curve**\n",
        "\n",
        "It is the area under the ROC curve formed by the predictions.\n",
        "\n",
        "A totally random prediction will have AUC score 0.5, while a perfect classifier will have AUC score of 1.\n",
        "\n",
        "Our Result is 0.9872 which indicates a good classifier!"
      ],
      "metadata": {
        "id": "1bQ_Ty3hYaB5"
      }
    },
    {
      "cell_type": "markdown",
      "source": [
        "# **Creating Random Probabilities for begnin cancer**\n",
        "\n",
        "Using \"random\" function of numpy\n"
      ],
      "metadata": {
        "id": "27oucqbeY89T"
      }
    },
    {
      "cell_type": "markdown",
      "source": [
        "# **ROC for Random Predictions**\n",
        "\n",
        "**Analysis** It is very close to the \"Guess\" line\n",
        "\n",
        "Indicator of a Bad Classifier \n",
        "\n",
        "Will give a low value of AUC "
      ],
      "metadata": {
        "id": "1MJ-vc_Vb5yE"
      }
    },
    {
      "cell_type": "code",
      "source": [
        "auc_score = metrics.roc_auc_score(y_test, rand_proba)\n",
        "print(f\"Scikit's ROC-AUC score of random predictions is: {auc_score: .4f}\")"
      ],
      "metadata": {
        "id": "kSUOG_d9Z4qE"
      },
      "execution_count": null,
      "outputs": []
    },
    {
      "cell_type": "markdown",
      "source": [
        "# **AUC value is very low for random predictions**"
      ],
      "metadata": {
        "id": "QGTxFdNeZ5OZ"
      }
    }
  ]
}