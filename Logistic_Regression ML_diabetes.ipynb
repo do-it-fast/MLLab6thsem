{
 "cells": [
  {
   "cell_type": "markdown",
   "metadata": {
    "id": "MmMnrIFiGh40"
   },
   "source": [
    "# UNI-VARIANT LOGISTIC REGRESSION"
   ]
  },
  {
   "cell_type": "markdown",
   "metadata": {
    "id": "esHzmBmTG0FY"
   },
   "source": [
    "**Reading diabetes dataset**"
   ]
  },
  {
   "cell_type": "code",
   "execution_count": 121,
   "metadata": {
    "id": "d3XKdEtbiFS5"
   },
   "outputs": [],
   "source": [
    "#import pandas\n",
    "import pandas as pd\n",
    "col_names = ['pregnant', 'glucose', 'bp', 'skin', 'insulin', 'bmi', 'pedigree', 'age', 'label']\n",
    "# load dataset\n",
    "pima = pd.read_csv(\"diabetes.csv\", header=None, names=col_names)\n",
    "pima = pima.iloc[1:] #added this because of the error ValueError: could not convert string to float: 'Pregnancies'"
   ]
  },
  {
   "cell_type": "code",
   "execution_count": 122,
   "metadata": {
    "colab": {
     "base_uri": "https://localhost:8080/",
     "height": 206
    },
    "id": "4sQqlM7qjwog",
    "outputId": "65e6f3ae-fd16-45d0-8092-894243a2752a"
   },
   "outputs": [
    {
     "data": {
      "text/html": [
       "<div>\n",
       "<style scoped>\n",
       "    .dataframe tbody tr th:only-of-type {\n",
       "        vertical-align: middle;\n",
       "    }\n",
       "\n",
       "    .dataframe tbody tr th {\n",
       "        vertical-align: top;\n",
       "    }\n",
       "\n",
       "    .dataframe thead th {\n",
       "        text-align: right;\n",
       "    }\n",
       "</style>\n",
       "<table border=\"1\" class=\"dataframe\">\n",
       "  <thead>\n",
       "    <tr style=\"text-align: right;\">\n",
       "      <th></th>\n",
       "      <th>pregnant</th>\n",
       "      <th>glucose</th>\n",
       "      <th>bp</th>\n",
       "      <th>skin</th>\n",
       "      <th>insulin</th>\n",
       "      <th>bmi</th>\n",
       "      <th>pedigree</th>\n",
       "      <th>age</th>\n",
       "      <th>label</th>\n",
       "    </tr>\n",
       "  </thead>\n",
       "  <tbody>\n",
       "    <tr>\n",
       "      <th>1</th>\n",
       "      <td>6</td>\n",
       "      <td>148</td>\n",
       "      <td>72</td>\n",
       "      <td>35</td>\n",
       "      <td>0</td>\n",
       "      <td>33.6</td>\n",
       "      <td>0.627</td>\n",
       "      <td>50</td>\n",
       "      <td>1</td>\n",
       "    </tr>\n",
       "    <tr>\n",
       "      <th>2</th>\n",
       "      <td>1</td>\n",
       "      <td>85</td>\n",
       "      <td>66</td>\n",
       "      <td>29</td>\n",
       "      <td>0</td>\n",
       "      <td>26.6</td>\n",
       "      <td>0.351</td>\n",
       "      <td>31</td>\n",
       "      <td>0</td>\n",
       "    </tr>\n",
       "    <tr>\n",
       "      <th>3</th>\n",
       "      <td>8</td>\n",
       "      <td>183</td>\n",
       "      <td>64</td>\n",
       "      <td>0</td>\n",
       "      <td>0</td>\n",
       "      <td>23.3</td>\n",
       "      <td>0.672</td>\n",
       "      <td>32</td>\n",
       "      <td>1</td>\n",
       "    </tr>\n",
       "    <tr>\n",
       "      <th>4</th>\n",
       "      <td>1</td>\n",
       "      <td>89</td>\n",
       "      <td>66</td>\n",
       "      <td>23</td>\n",
       "      <td>94</td>\n",
       "      <td>28.1</td>\n",
       "      <td>0.167</td>\n",
       "      <td>21</td>\n",
       "      <td>0</td>\n",
       "    </tr>\n",
       "    <tr>\n",
       "      <th>5</th>\n",
       "      <td>NaN</td>\n",
       "      <td>137</td>\n",
       "      <td>40</td>\n",
       "      <td>35</td>\n",
       "      <td>168</td>\n",
       "      <td>43.1</td>\n",
       "      <td>2.288</td>\n",
       "      <td>NaN</td>\n",
       "      <td>1</td>\n",
       "    </tr>\n",
       "  </tbody>\n",
       "</table>\n",
       "</div>"
      ],
      "text/plain": [
       "  pregnant glucose  bp skin insulin   bmi pedigree  age label\n",
       "1        6     148  72   35       0  33.6    0.627   50     1\n",
       "2        1      85  66   29       0  26.6    0.351   31     0\n",
       "3        8     183  64    0       0  23.3    0.672   32     1\n",
       "4        1      89  66   23      94  28.1    0.167   21     0\n",
       "5      NaN     137  40   35     168  43.1    2.288  NaN     1"
      ]
     },
     "execution_count": 122,
     "metadata": {},
     "output_type": "execute_result"
    }
   ],
   "source": [
    "pima.head()"
   ]
  },
  {
   "cell_type": "code",
   "execution_count": 123,
   "metadata": {},
   "outputs": [],
   "source": [
    "pima=pima.dropna()"
   ]
  },
  {
   "cell_type": "code",
   "execution_count": 124,
   "metadata": {},
   "outputs": [
    {
     "data": {
      "text/plain": [
       "<AxesSubplot:xlabel='glucose', ylabel='label'>"
      ]
     },
     "execution_count": 124,
     "metadata": {},
     "output_type": "execute_result"
    },
    {
     "data": {
      "image/png": "[encoded data removed]",
      "text/plain": [
       "<Figure size 432x288 with 1 Axes>"
      ]
     },
     "metadata": {
      "needs_background": "light"
     },
     "output_type": "display_data"
    }
   ],
   "source": [
    "pima.plot.scatter(x=col_names[1],y=col_names[8],c='DarkBlue')"
   ]
  },
  {
   "cell_type": "markdown",
   "metadata": {
    "id": "2-W-kyMoHtLa"
   },
   "source": [
    "Pre-processing (reshaping)"
   ]
  },
  {
   "cell_type": "code",
   "execution_count": 125,
   "metadata": {
    "id": "bmf2LjDpj12M"
   },
   "outputs": [
    {
     "name": "stdout",
     "output_type": "stream",
     "text": [
      "<bound method DataFrame.dropna of     pregnant glucose  bp skin insulin   bmi pedigree age label\n",
      "1          6     148  72   35       0  33.6    0.627  50     1\n",
      "2          1      85  66   29       0  26.6    0.351  31     0\n",
      "3          8     183  64    0       0  23.3    0.672  32     1\n",
      "4          1      89  66   23      94  28.1    0.167  21     0\n",
      "7          3      78  50   32      88    31    0.248  26     1\n",
      "..       ...     ...  ..  ...     ...   ...      ...  ..   ...\n",
      "762        9     170  74   31       0    44    0.403  43     1\n",
      "763        9      89  62    0       0  22.5    0.142  33     0\n",
      "764       10     101  76   48     180  32.9    0.171  63     0\n",
      "766        5     121  72   23     112  26.2    0.245  30     0\n",
      "767        1     126  60    0       0  30.1    0.349  47     1\n",
      "\n",
      "[743 rows x 9 columns]>\n"
     ]
    }
   ],
   "source": [
    "#split dataset in features and target variable\n",
    "X = pima.glucose.values.reshape(-1, 1) # Features\n",
    "y = pima.label.values.reshape(-1, 1) # Target variable\n",
    "print(pima.dropna)"
   ]
  },
  {
   "cell_type": "markdown",
   "metadata": {
    "id": "ozq_J_aFHxun"
   },
   "source": [
    "**Splitting the dataset**"
   ]
  },
  {
   "cell_type": "code",
   "execution_count": 126,
   "metadata": {
    "id": "dOoLvn07j6eF"
   },
   "outputs": [],
   "source": [
    "# split X and y into training and testing sets\n",
    "from sklearn.model_selection import train_test_split"
   ]
  },
  {
   "cell_type": "code",
   "execution_count": 127,
   "metadata": {
    "colab": {
     "base_uri": "https://localhost:8080/"
    },
    "id": "1Z8osq2Akhz3",
    "outputId": "e6c9a620-de29-41a8-ed39-eb6b009564c7"
   },
   "outputs": [
    {
     "name": "stdout",
     "output_type": "stream",
     "text": [
      "(543, 1)\n",
      "(200, 1)\n",
      "(543, 1)\n",
      "(200, 1)\n"
     ]
    },
    {
     "name": "stderr",
     "output_type": "stream",
     "text": [
      "C:\\Users\\Ankush\\anaconda3\\lib\\site-packages\\sklearn\\utils\\validation.py:993: DataConversionWarning: A column-vector y was passed when a 1d array was expected. Please change the shape of y to (n_samples, ), for example using ravel().\n",
      "  y = column_or_1d(y, warn=True)\n"
     ]
    },
    {
     "data": {
      "text/plain": [
       "LogisticRegression()"
      ]
     },
     "execution_count": 127,
     "metadata": {},
     "output_type": "execute_result"
    }
   ],
   "source": [
    "# import the class\n",
    "from sklearn.linear_model import LogisticRegression\n",
    "\n",
    "x_train, x_test, y_train, y_test = train_test_split(X, y, test_size=200, random_state=42, stratify=y)\n",
    "print(x_train.shape)\n",
    "print(x_test.shape)\n",
    "print(y_train.shape)\n",
    "print(y_test.shape)\n",
    "reg = LogisticRegression()\n",
    "reg.fit(x_train, y_train)"
   ]
  },
  {
   "cell_type": "markdown",
   "metadata": {
    "id": "DAR0S_SAIYxZ"
   },
   "source": [
    "**Prediction**"
   ]
  },
  {
   "cell_type": "code",
   "execution_count": 128,
   "metadata": {
    "id": "E_NXCcKdAY0K"
   },
   "outputs": [],
   "source": [
    "y_pred=reg.predict(x_test)"
   ]
  },
  {
   "cell_type": "code",
   "execution_count": 129,
   "metadata": {},
   "outputs": [
    {
     "name": "stdout",
     "output_type": "stream",
     "text": [
      "['1']\n"
     ]
    }
   ],
   "source": [
    "new=reg.predict([[150.0]])\n",
    "print(new)"
   ]
  },
  {
   "cell_type": "markdown",
   "metadata": {
    "id": "koYYh6X5Ibgc"
   },
   "source": [
    "**Confusion Matrix**"
   ]
  },
  {
   "cell_type": "code",
   "execution_count": 130,
   "metadata": {
    "colab": {
     "base_uri": "https://localhost:8080/"
    },
    "id": "rFmN46pdq-ew",
    "outputId": "ee54cee4-3f73-4bab-cb65-29528c3d57aa"
   },
   "outputs": [
    {
     "data": {
      "text/plain": [
       "array([[122,   8],\n",
       "       [ 34,  36]], dtype=int64)"
      ]
     },
     "execution_count": 130,
     "metadata": {},
     "output_type": "execute_result"
    }
   ],
   "source": [
    "# import the metrics class\n",
    "from sklearn import metrics\n",
    "cnf_matrix = metrics.confusion_matrix(y_test, y_pred)\n",
    "cnf_matrix"
   ]
  },
  {
   "cell_type": "code",
   "execution_count": 131,
   "metadata": {
    "id": "EOQdIsINrwmM"
   },
   "outputs": [],
   "source": [
    "# import required modules\n",
    "import numpy as np\n",
    "import matplotlib.pyplot as plt\n",
    "import seaborn as sns\n",
    "%matplotlib inline"
   ]
  },
  {
   "cell_type": "code",
   "execution_count": 132,
   "metadata": {
    "colab": {
     "base_uri": "https://localhost:8080/",
     "height": 342
    },
    "id": "cvejIuPkr0BC",
    "outputId": "85d04bad-ea84-4ca6-c316-476911908a7a"
   },
   "outputs": [
    {
     "data": {
      "text/plain": [
       "Text(0.5, 257.44, 'Predicted label')"
      ]
     },
     "execution_count": 132,
     "metadata": {},
     "output_type": "execute_result"
    },
    {
     "data": {
      "image/png": "[encoded data removed]",
      "text/plain": [
       "<Figure size 432x288 with 2 Axes>"
      ]
     },
     "metadata": {
      "needs_background": "light"
     },
     "output_type": "display_data"
    }
   ],
   "source": [
    "class_names=[0,1] # name  of classes\n",
    "fig, ax = plt.subplots()\n",
    "tick_marks = np.arange(len(class_names))\n",
    "plt.xticks(tick_marks, class_names)\n",
    "plt.yticks(tick_marks, class_names)\n",
    "# create heatmap\n",
    "sns.heatmap(pd.DataFrame(cnf_matrix), annot=True, cmap=\"YlGnBu\" ,fmt='g')\n",
    "ax.xaxis.set_label_position(\"top\")\n",
    "plt.tight_layout()\n",
    "plt.title('Confusion matrix', y=1.1)\n",
    "plt.ylabel('Actual label')\n",
    "plt.xlabel('Predicted label')"
   ]
  },
  {
   "cell_type": "markdown",
   "metadata": {
    "id": "o-ZutqLoIltW"
   },
   "source": [
    "**Precision**"
   ]
  },
  {
   "cell_type": "code",
   "execution_count": 133,
   "metadata": {
    "colab": {
     "base_uri": "https://localhost:8080/"
    },
    "id": "hwvQ8Vb0sADu",
    "outputId": "691fd66c-bc72-4326-b827-e4ab7c65027e"
   },
   "outputs": [
    {
     "name": "stdout",
     "output_type": "stream",
     "text": [
      "\n",
      " Precision is 0.8181818181818182\n"
     ]
    }
   ],
   "source": [
    "print(\"\\n Precision is\", metrics.precision_score(y_test, y_pred, pos_label='1'))"
   ]
  },
  {
   "cell_type": "markdown",
   "metadata": {
    "id": "xH5h_O7oIp1r"
   },
   "source": [
    "**Recall**"
   ]
  },
  {
   "cell_type": "code",
   "execution_count": 134,
   "metadata": {
    "colab": {
     "base_uri": "https://localhost:8080/"
    },
    "id": "KHCk5n7mwYPI",
    "outputId": "c0959dd9-148d-40be-b9a2-3e21fd48786d"
   },
   "outputs": [
    {
     "name": "stdout",
     "output_type": "stream",
     "text": [
      "\n",
      " Recall is 0.5142857142857142\n"
     ]
    }
   ],
   "source": [
    "print(\"\\n Recall is\", metrics.recall_score(y_test, y_pred, pos_label='1'))"
   ]
  },
  {
   "cell_type": "markdown",
   "metadata": {
    "id": "8la8kCO3ItiU"
   },
   "source": [
    "**Errors**"
   ]
  },
  {
   "cell_type": "code",
   "execution_count": 135,
   "metadata": {
    "colab": {
     "base_uri": "https://localhost:8080/"
    },
    "id": "8BoAab_G7tNo",
    "outputId": "eeb487e5-9d5e-49b4-98f2-9076d28a486b"
   },
   "outputs": [
    {
     "name": "stdout",
     "output_type": "stream",
     "text": [
      "Mean Absolute Error =  0.21\n"
     ]
    }
   ],
   "source": [
    "from sklearn.metrics import mean_absolute_error,  mean_squared_error\n",
    "predictions = reg.predict(x_test)\n",
    "mae = mean_absolute_error(y_test,predictions)\n",
    "print(\"Mean Absolute Error = \",mae)"
   ]
  },
  {
   "cell_type": "code",
   "execution_count": 136,
   "metadata": {
    "colab": {
     "base_uri": "https://localhost:8080/"
    },
    "id": "0T2jdVAWDpLT",
    "outputId": "4fbe977c-96f6-4623-a3b7-c04847c3a80c"
   },
   "outputs": [
    {
     "name": "stdout",
     "output_type": "stream",
     "text": [
      "Mean Squared Error =  0.21\n"
     ]
    }
   ],
   "source": [
    "predictions = reg.predict(x_test)\n",
    "mse = mean_squared_error(y_test,predictions)\n",
    "print(\"Mean Squared Error = \",mse)"
   ]
  },
  {
   "cell_type": "code",
   "execution_count": 137,
   "metadata": {
    "colab": {
     "base_uri": "https://localhost:8080/"
    },
    "id": "0CjHh1gPD21i",
    "outputId": "12a7e8f4-1244-487c-95fa-c880c8cad614"
   },
   "outputs": [
    {
     "name": "stdout",
     "output_type": "stream",
     "text": [
      "Root Mean Squared Error =  0.458257569495584\n"
     ]
    }
   ],
   "source": [
    "# compute the RMSE of our predictions\n",
    "rmse = np.sqrt(mean_squared_error(y_test,y_pred))\n",
    "print(\"Root Mean Squared Error = \",rmse)"
   ]
  },
  {
   "cell_type": "markdown",
   "metadata": {
    "id": "UYKIMZ-mI33I"
   },
   "source": [
    "**ROC and AUC**"
   ]
  },
  {
   "cell_type": "code",
   "execution_count": 138,
   "metadata": {
    "colab": {
     "base_uri": "https://localhost:8080/",
     "height": 265
    },
    "id": "3ydsScdjFJ7R",
    "outputId": "6eb18e41-b058-4262-e248-e29cc436914f"
   },
   "outputs": [
    {
     "data": {
      "image/png": "[encoded data removed]",
      "text/plain": [
       "<Figure size 432x288 with 1 Axes>"
      ]
     },
     "metadata": {
      "needs_background": "light"
     },
     "output_type": "display_data"
    }
   ],
   "source": [
    "y_pred_proba = reg.predict_proba(x_test)[::,1]\n",
    "fpr, tpr, _ = metrics.roc_curve(y_test,  y_pred_proba, pos_label='1')\n",
    "auc = metrics.roc_auc_score(y_test, y_pred_proba)\n",
    "plt.plot(fpr,tpr,label=\"data 1, auc=\"+str(auc))\n",
    "plt.legend(loc=4)\n",
    "plt.show()"
   ]
  },
  {
   "cell_type": "markdown",
   "metadata": {
    "id": "XqIK8eWPI7B0"
   },
   "source": [
    "**Accuracy**"
   ]
  },
  {
   "cell_type": "code",
   "execution_count": 139,
   "metadata": {
    "colab": {
     "base_uri": "https://localhost:8080/"
    },
    "id": "OZ9et0QLGJ9u",
    "outputId": "0579f3d8-2d2c-4955-c2c7-3d684d78b384"
   },
   "outputs": [
    {
     "data": {
      "text/plain": [
       "0.79"
      ]
     },
     "execution_count": 139,
     "metadata": {},
     "output_type": "execute_result"
    }
   ],
   "source": [
    "from sklearn.metrics import accuracy_score\n",
    "accuracy_score(y_test, y_pred)"
   ]
  },
  {
   "cell_type": "markdown",
   "metadata": {
    "id": "MLIUWvkCo2ok"
   },
   "source": [
    "# INFERENCE"
   ]
  },
  {
   "cell_type": "markdown",
   "metadata": {
    "id": "7sW4ydh1o_hw"
   },
   "source": [
    "With an AUC (Area under the curve) of 0.778, a fair classification has been made.\n",
    "\n",
    "The Mean Absolute Error and Mean Squared Error of 0.275 represents an acceptable model."
   ]
  },
  {
   "cell_type": "markdown",
   "metadata": {
    "id": "SRWo1qqQuzoC"
   },
   "source": [
    "**COMPARISION**"
   ]
  },
  {
   "cell_type": "markdown",
   "metadata": {
    "id": "WiSqVpV7u3JQ"
   },
   "source": [
    "In uni-variant only insulin was considered as a feature which affects the target output of being diabetic or not. Whereas in multi-variant various features were considered. \n",
    "\n",
    "In multi-variant there are 95 true positives whereas in uni-variant there are 113.\n",
    "\n",
    "The accuracy rate in both are similar with 72 percentage\n",
    "\n",
    "The precision in multi-variant is 0.616 and in uni-variant it's a similar value of 0.653."
   ]
  }
 ],
 "metadata": {
  "colab": {
   "name": "Logistic Regression.ipynb",
   "provenance": []
  },
  "kernelspec": {
   "display_name": "Python 3 (ipykernel)",
   "language": "python",
   "name": "python3"
  },
  "language_info": {
   "codemirror_mode": {
    "name": "ipython",
    "version": 3
   },
   "file_extension": ".py",
   "mimetype": "text/x-python",
   "name": "python",
   "nbconvert_exporter": "python",
   "pygments_lexer": "ipython3",
   "version": "3.9.12"
  }
 },
 "nbformat": 4,
 "nbformat_minor": 1
}
